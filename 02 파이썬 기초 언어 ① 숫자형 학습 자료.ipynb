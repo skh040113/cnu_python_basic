{
 "cells": [
  {
   "cell_type": "markdown",
   "id": "52aeedf5",
   "metadata": {},
   "source": [
    "# 02 파이썬 기초 언어 ①: 숫자형 학습 자료(2022. 9. 13.(화))"
   ]
  },
  {
   "cell_type": "markdown",
   "id": "cd003794",
   "metadata": {},
   "source": [
    "<span style=\"color:red\"><strong>\n",
    "    ※ 무단 배포, 공유, 수정, 편집 금지 ⓒ선한빛\n",
    "        </strong></span>"
   ]
  },
  {
   "cell_type": "markdown",
   "id": "a8a3590d",
   "metadata": {},
   "source": [
    "### 1. 기초 함수"
   ]
  },
  {
   "cell_type": "markdown",
   "id": "57a23171",
   "metadata": {},
   "source": [
    "<p>● <strong>print( )</strong>: 변수에 입력한 값(자료형)을 <span style='background-color: #fff5b1'>출력할 때</span> 사용하는 함수</p>\n",
    "<p>● <strong>type( )</strong>: 변수에 입력한 값(자료형)의 <span style='background-color: #fff5b1'>유형을 확인할 때</span> 사용하는 함수</p>"
   ]
  },
  {
   "cell_type": "markdown",
   "id": "1d4d505d",
   "metadata": {},
   "source": [
    "### 2. 숫자형"
   ]
  },
  {
   "cell_type": "markdown",
   "id": "0b0e3471",
   "metadata": {},
   "source": [
    "<p>● <strong>정수형(Integer)</strong>: 양의 정수, 음의 정수, 0으로 구성된 숫자 (예: 1, -1, 0)</p>\n",
    "<p>● <strong>실수형(Floating-poibg)</strong>: 소수점이 포함된 숫자 (예: 1.2, -3.45)</p>\n",
    "<p>● <strong>복소수(Complex)</strong>: 실수와 허수의 합을 나타내는 숫자(예: 10+2j)</p>"
   ]
  },
  {
   "cell_type": "markdown",
   "id": "20307231",
   "metadata": {},
   "source": [
    "<span style=\"color:#0000ff\"><strong>\n",
    "    1) 변수 a에 3, 변수 b에 -5.1, 변수 c에 4.24e-10을 대입한 후 각각 출력하시오.\n",
    "    </strong></span>"
   ]
  },
  {
   "cell_type": "code",
   "execution_count": 16,
   "id": "7fc3ee42",
   "metadata": {},
   "outputs": [
    {
     "name": "stdout",
     "output_type": "stream",
     "text": [
      "3\n",
      "-5.1\n",
      "(10+2j)\n"
     ]
    }
   ],
   "source": [
    "a=3\n",
    "b=-5.1\n",
    "c=10+2j\n",
    "print(a)\n",
    "print(b)\n",
    "print(c)"
   ]
  },
  {
   "cell_type": "markdown",
   "id": "fa44f2b1-5f15-440a-8eb9-264ee4533d33",
   "metadata": {},
   "source": [
    "<span style=\"color:#0000ff\"><strong>\n",
    "2) 변수 a, b, c의 자료형의 유형을 출력하시오.\n",
    "    </strong></span>"
   ]
  },
  {
   "cell_type": "code",
   "execution_count": 15,
   "id": "70387e3d-b097-41b3-aba8-f0af6a0e141d",
   "metadata": {},
   "outputs": [
    {
     "name": "stdout",
     "output_type": "stream",
     "text": [
      "<class 'int'>\n",
      "<class 'float'>\n",
      "<class 'complex'>\n"
     ]
    }
   ],
   "source": [
    "a=3\n",
    "b=-5.1\n",
    "c=10+2j\n",
    "\n",
    "print(type(a))\n",
    "print(type(b))\n",
    "print(type(c))"
   ]
  },
  {
   "cell_type": "markdown",
   "id": "6189799a",
   "metadata": {},
   "source": [
    "### 3. 사칙연산"
   ]
  },
  {
   "attachments": {
    "image.png": {
     "image/png": "[encoded data removed]"
    }
   },
   "cell_type": "markdown",
   "id": "0fd8dab5",
   "metadata": {},
   "source": [
    "![image.png](attachment:image.png)"
   ]
  },
  {
   "cell_type": "markdown",
   "id": "cf3655db-1db3-49c1-8e0b-879518ae1535",
   "metadata": {},
   "source": [
    "<span style=\"color:#0000ff\"><strong>\n",
    "    1) 변수 a에 2, b에 -8을 대입한 후 a와 b를 더하시오.\n",
    "    </strong></span>"
   ]
  },
  {
   "cell_type": "code",
   "execution_count": 7,
   "id": "7051a5d7",
   "metadata": {},
   "outputs": [
    {
     "name": "stdout",
     "output_type": "stream",
     "text": [
      "-6\n"
     ]
    }
   ],
   "source": [
    "a=2\n",
    "b=-8\n",
    "print(a+b)"
   ]
  },
  {
   "cell_type": "markdown",
   "id": "ef11e4ce",
   "metadata": {},
   "source": [
    "<span style=\"color:#0000ff\"><strong>\n",
    "    2) 변수 a에 6.3, b에 3.8을 대입한 후 a와 b를 빼시오.\n",
    "    </strong></span>"
   ]
  },
  {
   "cell_type": "code",
   "execution_count": 8,
   "id": "bc3a57f9",
   "metadata": {},
   "outputs": [
    {
     "name": "stdout",
     "output_type": "stream",
     "text": [
      "2.5\n"
     ]
    }
   ],
   "source": [
    "a=6.3\n",
    "b=3.8\n",
    "print(a-b)"
   ]
  },
  {
   "cell_type": "markdown",
   "id": "9c0ab105",
   "metadata": {},
   "source": [
    "<span style=\"color:#0000ff\"><strong>\n",
    "    3) 변수 a에 10, b에 10을 대입한 후 a와 b를 곱하시오.\n",
    "    </strong></span>"
   ]
  },
  {
   "cell_type": "code",
   "execution_count": 9,
   "id": "66778a8e",
   "metadata": {},
   "outputs": [
    {
     "name": "stdout",
     "output_type": "stream",
     "text": [
      "100\n"
     ]
    }
   ],
   "source": [
    "a=10\n",
    "b=10 \n",
    "print(a*b)"
   ]
  },
  {
   "cell_type": "markdown",
   "id": "5398e2dd",
   "metadata": {},
   "source": [
    "<span style=\"color:#0000ff\"><strong>\n",
    "    4) 변수 a에 16, b에 4를 대입한 후 a와 b를 나누시오.\n",
    "    </strong></span>"
   ]
  },
  {
   "cell_type": "code",
   "execution_count": 10,
   "id": "857a2b10",
   "metadata": {},
   "outputs": [
    {
     "name": "stdout",
     "output_type": "stream",
     "text": [
      "4.0\n"
     ]
    }
   ],
   "source": [
    "a=16\n",
    "b=4\n",
    "print(a/b)"
   ]
  },
  {
   "cell_type": "markdown",
   "id": "a849b1df",
   "metadata": {},
   "source": [
    "<span style=\"color:#0000ff\"><strong>\n",
    "    5) 변수 a에 27, b에 3을 대입한 후 a와 b를 나눈 몫을 구하시오.\n",
    "    </strong></span>"
   ]
  },
  {
   "cell_type": "code",
   "execution_count": 11,
   "id": "1982ba06",
   "metadata": {},
   "outputs": [
    {
     "name": "stdout",
     "output_type": "stream",
     "text": [
      "9\n"
     ]
    }
   ],
   "source": [
    "a=27\n",
    "b=3\n",
    "print(a//b)"
   ]
  },
  {
   "cell_type": "markdown",
   "id": "92745b82",
   "metadata": {},
   "source": [
    "<span style=\"color:#0000ff\"><strong>\n",
    "    6) 변수 a에 59, b에 7을 대입한 후 a와 b를 나눈 나머지를 구하시오.\n",
    "    </strong></span>"
   ]
  },
  {
   "cell_type": "code",
   "execution_count": 12,
   "id": "38b3b5cc",
   "metadata": {},
   "outputs": [
    {
     "name": "stdout",
     "output_type": "stream",
     "text": [
      "3\n"
     ]
    }
   ],
   "source": [
    "a=59\n",
    "b=7\n",
    "print(a%b)"
   ]
  }
 ],
 "metadata": {
  "kernelspec": {
   "display_name": "Python 3 (ipykernel)",
   "language": "python",
   "name": "python3"
  },
  "language_info": {
   "codemirror_mode": {
    "name": "ipython",
    "version": 3
   },
   "file_extension": ".py",
   "mimetype": "text/x-python",
   "name": "python",
   "nbconvert_exporter": "python",
   "pygments_lexer": "ipython3",
   "version": "3.9.12"
  }
 },
 "nbformat": 4,
 "nbformat_minor": 5
}
