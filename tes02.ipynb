{
 "cells": [
  {
   "cell_type": "markdown",
   "id": "9c66c574",
   "metadata": {},
   "source": [
    "## 문자열 자료형\n",
    "- 일반적인 방법으로는 작은따옴표 or 큰따옴표를 1개씩(' ' ,\" \"), 3개씩 사용(''' ''', \"\"\" \"\"\")\n",
    "- 무언가를 강조하기 위하여 작은 따옴표나 큰따옴표를 써야하는 경우엔 다른 따옴표를 활용하여 문자열을 완성한다. \n",
    "- 예) \"My name is 'Tom\"\"(x)   'My name is \"Tom\"'(o)\n"
   ]
  },
  {
   "cell_type": "code",
   "execution_count": 10,
   "id": "463a5dae",
   "metadata": {},
   "outputs": [
    {
     "name": "stdout",
     "output_type": "stream",
     "text": [
      "apple\n"
     ]
    }
   ],
   "source": [
    "a='''apple'''\n",
    "\n",
    "print(a)"
   ]
  },
  {
   "cell_type": "code",
   "execution_count": 9,
   "id": "f0cbb4fa",
   "metadata": {},
   "outputs": [
    {
     "name": "stdout",
     "output_type": "stream",
     "text": [
      "my name is \"Tom\"\n"
     ]
    }
   ],
   "source": [
    "a= 'my name is \"Tom\"'\n",
    "\n",
    "print(a)"
   ]
  },
  {
   "cell_type": "code",
   "execution_count": 13,
   "id": "4a6fe0b7",
   "metadata": {},
   "outputs": [
    {
     "name": "stdout",
     "output_type": "stream",
     "text": [
      "\n",
      "Hello.\n",
      "My name is John.\n",
      "\n"
     ]
    }
   ],
   "source": [
    "a=\"\"\"\n",
    "Hello.\n",
    "My name is John.\n",
    "\"\"\"\n",
    "print(a)"
   ]
  },
  {
   "cell_type": "code",
   "execution_count": 14,
   "id": "c6d07c19",
   "metadata": {},
   "outputs": [
    {
     "name": "stdout",
     "output_type": "stream",
     "text": [
      "영어 점수: 80점\n"
     ]
    }
   ],
   "source": [
    "a=80\n",
    "b='영어 점수: '+str(a)+'점'\n",
    "\n",
    "print(b)"
   ]
  }
 ],
 "metadata": {
  "kernelspec": {
   "display_name": "Python 3 (ipykernel)",
   "language": "python",
   "name": "python3"
  },
  "language_info": {
   "codemirror_mode": {
    "name": "ipython",
    "version": 3
   },
   "file_extension": ".py",
   "mimetype": "text/x-python",
   "name": "python",
   "nbconvert_exporter": "python",
   "pygments_lexer": "ipython3",
   "version": "3.9.12"
  }
 },
 "nbformat": 4,
 "nbformat_minor": 5
}
