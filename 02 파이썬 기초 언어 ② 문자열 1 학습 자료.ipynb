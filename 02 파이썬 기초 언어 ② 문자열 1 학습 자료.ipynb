{
 "cells": [
  {
   "cell_type": "markdown",
   "id": "52aeedf5",
   "metadata": {},
   "source": [
    "# 02 파이썬 기초 언어 ②: 문자열 1 학습 자료(2022. 9. 13.(화))"
   ]
  },
  {
   "cell_type": "markdown",
   "id": "d54c2843",
   "metadata": {},
   "source": [
    "<span style=\"color:red\"><strong>\n",
    "    ※ 무단 배포, 공유, 수정, 편집 금지 ⓒ선한빛\n",
    "        </strong></span>"
   ]
  },
  {
   "cell_type": "markdown",
   "id": "a8a3590d",
   "metadata": {},
   "source": [
    "### 1. 문자열(String)"
   ]
  },
  {
   "cell_type": "markdown",
   "id": "57a23171",
   "metadata": {},
   "source": [
    "<p>● 문자, 단어 등으로 구성된 <span style='background-color: #fff5b1'>문자들의 집합</span></p>\n",
    "<p>● 하나 또는 여러 개의 문자로 구성 가능</p>"
   ]
  },
  {
   "cell_type": "markdown",
   "id": "1d4d505d",
   "metadata": {},
   "source": [
    "### 2. 문자열(String) 생성 방법"
   ]
  },
  {
   "cell_type": "markdown",
   "id": "0b0e3471",
   "metadata": {},
   "source": [
    "<p>● <strong>일반적인 방법</strong>: 작은 따옴표나 큰 따옴표를 <span style='background-color: #fff5b1'>한 쌍씩</span> 또는 <span style='background-color: #fff5b1'>세 쌍씩</span>사용(' ', \" \", ''' ''', \"\"\" \"\"\")</p>\n",
    "<p>● <strong>문자열 내부에 따옴표 추가하기</strong>:</p>\n",
    "    <p>  · 문자열이 작은 따옴표로 묶여 있으면 내부는 큰 따옴표를 사용 (예: 'This is my \"dream\"')</p>\n",
    "    <p>  · 문자열이 큰 따옴표로 묶여 있으면 내부는 작은 따옴표를 사용 (예: \"This is my 'dream'\")</p>\n",
    "<p>● <strong>백슬래시(￦ 또는 ＼)</strong>: 문자열 내부에 이미 따옴표 하나가 있을 경우 <span style='background-color: #fff5b1'>따옴표 앞</span>에 입력 (예: python\\'s)</p>"
   ]
  },
  {
   "cell_type": "markdown",
   "id": "20307231",
   "metadata": {},
   "source": [
    "<span style=\"color:#0000ff\"><strong>\n",
    "    1) 변수 a에 Hi, 변수 b에 I am happy., 변수 c에 안녕하세요.를 대입한 후 pring()를 사용하여 각각 출력하시오. (작은 따옴표 사용)\n",
    "    </strong></span>"
   ]
  },
  {
   "cell_type": "code",
   "execution_count": 1,
   "id": "39f09f9f",
   "metadata": {
    "scrolled": true
   },
   "outputs": [
    {
     "name": "stdout",
     "output_type": "stream",
     "text": [
      "Hi\n",
      "I am happy\n",
      "안녕하세요\n"
     ]
    }
   ],
   "source": [
    "a='Hi'\n",
    "b='I am happy'\n",
    "c='안녕하세요'\n",
    "\n",
    "print(a)\n",
    "print(b)\n",
    "print(c)"
   ]
  },
  {
   "cell_type": "markdown",
   "id": "56b346be",
   "metadata": {},
   "source": [
    "<span style=\"color:#0000ff\"><strong>\n",
    "    2) 변수 a에 apple, 변수 b에 사과를 대입한 후 변수 a, b의 자료형을 각각 출력하시오. (큰 따옴표 사용)\n",
    "    </strong></span>"
   ]
  },
  {
   "cell_type": "code",
   "execution_count": 2,
   "id": "3ad4844e",
   "metadata": {},
   "outputs": [
    {
     "name": "stdout",
     "output_type": "stream",
     "text": [
      "<class 'str'>\n",
      "<class 'str'>\n"
     ]
    }
   ],
   "source": [
    "a=\"apple\"\n",
    "b=\"사과\"\n",
    "\n",
    "print(type(a))\n",
    "print(type(b))"
   ]
  },
  {
   "cell_type": "markdown",
   "id": "59fbae0d",
   "metadata": {},
   "source": [
    "<span style=\"color:#0000ff\"><strong>\n",
    "    3) 변수 a에 My name is Mary.를 대입한 후 Mary를 큰 따옴표로 표시하여 변수 a를 출력하시오.\n",
    "    </strong></span>"
   ]
  },
  {
   "cell_type": "code",
   "execution_count": 3,
   "id": "0a3cc38c",
   "metadata": {},
   "outputs": [
    {
     "name": "stdout",
     "output_type": "stream",
     "text": [
      "My name is\"Mary\"\n"
     ]
    }
   ],
   "source": [
    "a='My name is\"Mary\"'\n",
    "\n",
    "print(a)"
   ]
  },
  {
   "cell_type": "markdown",
   "id": "caae5df5",
   "metadata": {},
   "source": [
    "<span style=\"color:#0000ff\"><strong>\n",
    "    4) 변수 a에 Banana is yummy.를 대입한 후 Banana를 작은 따옴표로 표시하여 변수 a를 출력하시오.\n",
    "    </strong></span>"
   ]
  },
  {
   "cell_type": "code",
   "execution_count": 5,
   "id": "a23851e2",
   "metadata": {},
   "outputs": [
    {
     "name": "stdout",
     "output_type": "stream",
     "text": [
      "'Banana'is yummy\n"
     ]
    }
   ],
   "source": [
    "a= \"'Banana'is yummy\"\n",
    "\n",
    "print(a)"
   ]
  },
  {
   "cell_type": "markdown",
   "id": "1dc0d051",
   "metadata": {},
   "source": [
    "<span style=\"color:#0000ff\"><strong>\n",
    "    5) 변수 a에 Python's favorite food is perl.을 대입한 후 백슬래시(￦ 또는 ＼)를 사용하여 변수 a를 출력하시오.\n",
    "    </strong></span>"
   ]
  },
  {
   "cell_type": "code",
   "execution_count": 8,
   "id": "022a85c6",
   "metadata": {},
   "outputs": [
    {
     "name": "stdout",
     "output_type": "stream",
     "text": [
      "Python's favorite food is perl\n"
     ]
    }
   ],
   "source": [
    "a=\"Python\\'s favorite food is perl\"\n",
    "print(a)"
   ]
  },
  {
   "cell_type": "markdown",
   "id": "a8e35376",
   "metadata": {},
   "source": [
    "### 3. 문자열(String) 여러 줄로 나누어 출력하기"
   ]
  },
  {
   "attachments": {
    "image-3.png": {
     "image/png": "[encoded data removed]"
    }
   },
   "cell_type": "markdown",
   "id": "67d77a15",
   "metadata": {},
   "source": [
    "<p>● <strong>이스케이프 코드(￦n 또는 ＼n) 사용</strong>:</p>\n",
    "<p><span style='background-color: #fff5b1'>나누고 싶은 부분 앞에</span> 이스케이프 코드(￦n 또는 ＼n)를 삽입 (예: Hello. <span style='background-color: #fff5b1'>￦n</span>My name is John. 또는 Hello. <span style='background-color: #fff5b1'>\\n</span>My name is John)</p>\n",
    "<p>● <strong>따옴표를 세 쌍을 입력한 후 줄을 달리해서 변숫값 대입</strong>:</p>     \n",
    "\n",
    "![image-3.png](attachment:image-3.png)"
   ]
  },
  {
   "cell_type": "markdown",
   "id": "efdd48ce",
   "metadata": {},
   "source": [
    "<span style=\"color:#0000ff\"><strong>\n",
    "    1) 변수 a에 Life is too short. You need python.을 대입한 후 백슬래시(￦ 또는 ＼)를 사용하여 변수 a를 출력하시오.\n",
    "    </strong></span>"
   ]
  },
  {
   "cell_type": "code",
   "execution_count": 11,
   "id": "9cb1e8b2",
   "metadata": {},
   "outputs": [
    {
     "name": "stdout",
     "output_type": "stream",
     "text": [
      "Life is too short.\n",
      "You need python.\n"
     ]
    }
   ],
   "source": [
    "a= \"Life is too short.\\nYou need python.\"\n",
    "\n",
    "print(a)"
   ]
  },
  {
   "cell_type": "markdown",
   "id": "93a4e5b7",
   "metadata": {},
   "source": [
    "<span style=\"color:#0000ff\"><strong>\n",
    "    2) 변수 a에 Life is too short. You need python.을 대입한 후 따옴표 세 쌍을 활용해 변숫값을 두 줄로 출력하시오.\n",
    "    </strong></span>"
   ]
  },
  {
   "cell_type": "code",
   "execution_count": 12,
   "id": "31ad9a8a",
   "metadata": {},
   "outputs": [
    {
     "name": "stdout",
     "output_type": "stream",
     "text": [
      "\n",
      "Life is too short.\n",
      "You need python.\n",
      "\n"
     ]
    }
   ],
   "source": [
    "a=\"\"\"\n",
    "Life is too short.\n",
    "You need python.\n",
    "\"\"\"\n",
    "\n",
    "print(a)"
   ]
  },
  {
   "cell_type": "markdown",
   "id": "6189799a",
   "metadata": {},
   "source": [
    "### 4. 사칙연산"
   ]
  },
  {
   "attachments": {
    "image.png": {
     "image/png": "[encoded data removed]"
    }
   },
   "cell_type": "markdown",
   "id": "0fd8dab5",
   "metadata": {},
   "source": [
    "![image.png](attachment:image.png)"
   ]
  },
  {
   "cell_type": "markdown",
   "id": "cf3655db-1db3-49c1-8e0b-879518ae1535",
   "metadata": {},
   "source": [
    "<span style=\"color:#0000ff\"><strong>\n",
    "    1) 변수 a에 Python, b에 is, c에 fun!을 대입한 후 a, b, c를 더하시오.\n",
    "    </strong></span>"
   ]
  },
  {
   "cell_type": "code",
   "execution_count": 16,
   "id": "7051a5d7",
   "metadata": {},
   "outputs": [
    {
     "name": "stdout",
     "output_type": "stream",
     "text": [
      "Python is fun!\n"
     ]
    }
   ],
   "source": [
    "a=\"Python \"\n",
    "b=\"is \" \n",
    "c=\"fun!\"\n",
    "print(a+b+c)"
   ]
  },
  {
   "cell_type": "markdown",
   "id": "ef11e4ce",
   "metadata": {},
   "source": [
    "<span style=\"color:#0000ff\"><strong>\n",
    "    2) 변수 a에 Python을 대입한 후 a를 3번 곱하시오.\n",
    "    </strong></span>"
   ]
  },
  {
   "cell_type": "code",
   "execution_count": 18,
   "id": "bc3a57f9",
   "metadata": {},
   "outputs": [
    {
     "name": "stdout",
     "output_type": "stream",
     "text": [
      "Python Python Python \n"
     ]
    }
   ],
   "source": [
    "a=\"Python \"\n",
    "print(a*3)"
   ]
  },
  {
   "attachments": {
    "image.png": {
     "image/png": "[encoded data removed]"
    }
   },
   "cell_type": "markdown",
   "id": "6315b31c",
   "metadata": {},
   "source": [
    "<span style=\"color:#0000ff\"><strong>\n",
    "    3) 변수를 2개 이상 사용하여 아래와 같이 출력하시오.\n",
    "    </strong></span>\n",
    "\n",
    "![image.png](attachment:image.png)"
   ]
  },
  {
   "cell_type": "code",
   "execution_count": 39,
   "id": "d0929d30",
   "metadata": {},
   "outputs": [
    {
     "name": "stdout",
     "output_type": "stream",
     "text": [
      "영어 점수: 80점\n"
     ]
    }
   ],
   "source": [
    "a=\"영어 점수: \"\n",
    "b=\"80\"\n",
    "c=\"점\"\n",
    "print(a+b+c)"
   ]
  },
  {
   "cell_type": "markdown",
   "id": "6e048110",
   "metadata": {},
   "source": [
    "<span style=\"color:red\"><strong>※ 심화 코드</strong></span>"
   ]
  },
  {
   "cell_type": "code",
   "execution_count": 37,
   "id": "35daee52",
   "metadata": {},
   "outputs": [
    {
     "name": "stdout",
     "output_type": "stream",
     "text": [
      "영어 점수: 80점\n"
     ]
    }
   ],
   "source": [
    "a=80\n",
    "b='영어 점수: '+str(a)+'점'\n",
    "\n",
    "print(b)"
   ]
  },
  {
   "cell_type": "markdown",
   "id": "9c0ab105",
   "metadata": {},
   "source": [
    "### 5. 문자열 길이 구하기"
   ]
  },
  {
   "cell_type": "markdown",
   "id": "91b73551",
   "metadata": {},
   "source": [
    "<p>● <strong>len( )</strong>: <span style='background-color: #fff5b1'>문자열의 길이를 구할 때</span> 사용하는 함수</p>"
   ]
  },
  {
   "cell_type": "markdown",
   "id": "5398e2dd",
   "metadata": {},
   "source": [
    "<span style=\"color:#0000ff\"><strong>\n",
    "    1) 변수 a에 Life is too short.를 대입한 후 문자열의 길이를 출력하시오.\n",
    "    </strong></span>"
   ]
  },
  {
   "cell_type": "code",
   "execution_count": 28,
   "id": "857a2b10",
   "metadata": {},
   "outputs": [
    {
     "name": "stdout",
     "output_type": "stream",
     "text": [
      "18\n"
     ]
    }
   ],
   "source": [
    "a=\"LIfe is too short.\"\n",
    "print(len(a))"
   ]
  },
  {
   "cell_type": "markdown",
   "id": "d256b5f4",
   "metadata": {},
   "source": [
    "### 6. 인덱싱(Indexing)"
   ]
  },
  {
   "cell_type": "markdown",
   "id": "2d23f3ac",
   "metadata": {},
   "source": [
    "<p>● 문자열 안의 <span style='background-color: #fff5b1'>특정한 값을 뽑아내는</span> 작업</p>\n",
    "<p>● 문자열 안에 위치한 <span style='background-color: #fff5b1'>자리의 번호를 사용</span></p>\n",
    "<p>● 파이썬은 숫자가 <span style='background-color: #fff5b1'>0부터 시작</span>. <span style=\"color:red\">단, 뒤에서부터 셀 때는 -1부터 시작</span></p>\n",
    "<p>● <span style='background-color: #fff5b1'>변수명[번호]</span> (예: a[1])</p>"
   ]
  },
  {
   "cell_type": "markdown",
   "id": "a849b1df",
   "metadata": {},
   "source": [
    "<span style=\"color:#0000ff\"><strong>\n",
    "    1) 변수 a에 Life is too short.를 대입한 후 문자열의 다섯 번째 문자를 출력하시오.\n",
    "    </strong></span>"
   ]
  },
  {
   "cell_type": "code",
   "execution_count": 2,
   "id": "1982ba06",
   "metadata": {},
   "outputs": [
    {
     "name": "stdout",
     "output_type": "stream",
     "text": [
      " \n",
      "i\n"
     ]
    }
   ],
   "source": [
    "a=\"Life is too short\"\n",
    "\n",
    "print(a[4])\n",
    "print(a[5])"
   ]
  },
  {
   "cell_type": "markdown",
   "id": "92745b82",
   "metadata": {},
   "source": [
    "<span style=\"color:#0000ff\"><strong>\n",
    "    2) 변수 a에 Life is too short.를 대입한 후 인덱싱을 사용하여 h를 출력하시오.\n",
    "    </strong></span>"
   ]
  },
  {
   "cell_type": "code",
   "execution_count": null,
   "id": "38b3b5cc",
   "metadata": {},
   "outputs": [],
   "source": [
    "a=\"Life is short\""
   ]
  },
  {
   "cell_type": "markdown",
   "id": "7a802102",
   "metadata": {},
   "source": [
    "<span style=\"color:#0000ff\"><strong>\n",
    "    3) 변수 a에 Life is too short.를 대입한 후 인덱싱을 사용하여 too를 출력하시오.\n",
    "    </strong></span>"
   ]
  },
  {
   "cell_type": "code",
   "execution_count": null,
   "id": "d0045f55",
   "metadata": {},
   "outputs": [],
   "source": []
  },
  {
   "cell_type": "markdown",
   "id": "b105a08a",
   "metadata": {},
   "source": [
    "### 7. 슬라이싱(Slicing)"
   ]
  },
  {
   "cell_type": "markdown",
   "id": "b8b8837c",
   "metadata": {},
   "source": [
    "<p>● 문자열에서 <span style='background-color: #fff5b1'>한 단어를 뽑아내는</span> 작업</p>\n",
    "<p>● 슬라이싱하고 싶은 단어의 <span style='background-color: #fff5b1'>문자열 자리 번호를 사용하여 범위를 지정</span></p>\n",
    "<p>● 범위를 지정할 때 <span style='background-color: #fff5b1'>마지막 자리의 숫자는 1을 더해야 함.</span></p>\n",
    "<p>● <span style='background-color: #fff5b1'>변수명[시작 번호:끝 번호+1]</span> (예: a[0:3] → 0 ≤ a < 3)</p>\n",
    "<p>● 시작 번호가 0일 경우 <span style='background-color: #fff5b1'>0을 생략</span>해서 범위를 지정할 수 있음. (예: a[:3]</p>\n",
    "<p>● <span style='background-color: #fff5b1'>시작 번호와 끝 번호를 생략하면</span> 문자열의 처음부터 끝까지 출력 가능 (예: a[:]</p>"
   ]
  },
  {
   "cell_type": "markdown",
   "id": "2aff03a0",
   "metadata": {},
   "source": [
    "<span style=\"color:#0000ff\"><strong>\n",
    "    1) 변수 a에 Life is too short.를 대입한 후 슬라이싱을 사용하여 Life를 출력하시오.\n",
    "    </strong></span>"
   ]
  },
  {
   "cell_type": "code",
   "execution_count": null,
   "id": "aba3f1dc",
   "metadata": {},
   "outputs": [],
   "source": [
    "#방법 1\n"
   ]
  },
  {
   "cell_type": "code",
   "execution_count": null,
   "id": "297efae3",
   "metadata": {},
   "outputs": [],
   "source": [
    "#방법 2\n"
   ]
  },
  {
   "cell_type": "markdown",
   "id": "b42ad05d",
   "metadata": {},
   "source": [
    "<span style=\"color:#0000ff\"><strong>\n",
    "    2) 변수 a에 Life is too short.를 대입한 후 슬라이싱을 사용하여 문장 전체를 출력하시오.\n",
    "    </strong></span>"
   ]
  },
  {
   "cell_type": "code",
   "execution_count": null,
   "id": "fda500af",
   "metadata": {},
   "outputs": [],
   "source": []
  },
  {
   "cell_type": "markdown",
   "id": "0f8ce6f5",
   "metadata": {},
   "source": [
    "<span style=\"color:#0000ff\"><strong>\n",
    "    3) 슬라이싱을 사용하여 아래의 변수값을 입력한 후 출력하시오.\n",
    "    </strong></span>"
   ]
  },
  {
   "cell_type": "code",
   "execution_count": null,
   "id": "1bb27af5",
   "metadata": {},
   "outputs": [],
   "source": [
    "a='20220913Sunny'\n",
    "\n",
    "year=\n",
    "day=\n",
    "wether="
   ]
  }
 ],
 "metadata": {
  "kernelspec": {
   "display_name": "Python 3 (ipykernel)",
   "language": "python",
   "name": "python3"
  },
  "language_info": {
   "codemirror_mode": {
    "name": "ipython",
    "version": 3
   },
   "file_extension": ".py",
   "mimetype": "text/x-python",
   "name": "python",
   "nbconvert_exporter": "python",
   "pygments_lexer": "ipython3",
   "version": "3.9.12"
  }
 },
 "nbformat": 4,
 "nbformat_minor": 5
}
