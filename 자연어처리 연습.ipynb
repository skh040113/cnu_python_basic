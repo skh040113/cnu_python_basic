{
 "cells": [
  {
   "cell_type": "code",
   "execution_count": 3,
   "id": "c2839944",
   "metadata": {},
   "outputs": [],
   "source": [
    "from konlpy.tag import Kkma"
   ]
  },
  {
   "cell_type": "code",
   "execution_count": 4,
   "id": "43faf4c8",
   "metadata": {},
   "outputs": [],
   "source": [
    "kkma=Kkma()"
   ]
  },
  {
   "cell_type": "code",
   "execution_count": 11,
   "id": "37f0dfef",
   "metadata": {},
   "outputs": [
    {
     "name": "stdout",
     "output_type": "stream",
     "text": [
      "['서울 아파트 실거래가격지수는 올해 들어 하락세가 지속되고 있고 전국의 아파트 전 셋 값은 하락, 월세 가격은 상승 후 보합세를 보인다고 합니다.', '이 지표만 보면 부동산 시장이 그렇게 심각한 것인 가라는 반문을 할 수 있을 것 같습니다.', '하지만 다음의 지표들을 보면 심각성이 돋보이게 되지요.']\n"
     ]
    }
   ],
   "source": [
    "print(kkma.sentences('서울 아파트 실거래가격지수는 올해 들어 하락세가 지속되고 있고 전국의 아파트 전셋값은 하락, 월세 가격은 상승 후 보합세를 보인다고 합니다. 이 지표만 보면 부동산 시장이 그렇게 심각한 것인가라는 반문을 할 수 있을 것 같습니다. 하지만 다음의 지표들을 보면 심각성이 돋보이게 되지요.'))"
   ]
  },
  {
   "cell_type": "code",
   "execution_count": 13,
   "id": "1430a05a",
   "metadata": {},
   "outputs": [
    {
     "name": "stdout",
     "output_type": "stream",
     "text": [
      "['서울 아파트 실거래가격지수는 올해 들어 하락세가 지속되고 있고 전국의 아파트 전 셋 값은 하락, 월세 가격은 상승 후 보합세를 보인다고 합니다', '이 지표만 보면 부동산 시장이 그렇게 심각한 것인 가라는 반문을 할 수 있을 것 같습니다', '하지만 다음의 지표들을 보면 심각성이 돋보이게 되지요']\n"
     ]
    }
   ],
   "source": [
    "print(kkma.sentences('서울 아파트 실거래가격지수는 올해 들어 하락세가 지속되고 있고 전국의 아파트 전셋값은 하락, 월세 가격은 상승 후 보합세를 보인다고 합니다 이 지표만 보면 부동산 시장이 그렇게 심각한 것인가라는 반문을 할 수 있을 것 같습니다 하지만 다음의 지표들을 보면 심각성이 돋보이게 되지요'))"
   ]
  },
  {
   "cell_type": "code",
   "execution_count": 14,
   "id": "1e524486",
   "metadata": {},
   "outputs": [
    {
     "name": "stdout",
     "output_type": "stream",
     "text": [
      "['서울', '아파트', '실', '실거래가격지수', '거래', '가격', '지수', '올해', '하락세', '지속', '전국', '전', '전셋값', '셋', '값', '하락', '월세', '상승', '후', '보합세', '지표', '부동산', '시장', '반문', '수', '다음', '심각']\n"
     ]
    }
   ],
   "source": [
    "print(kkma.nouns('서울 아파트 실거래가격지수는 올해 들어 하락세가 지속되고 있고 전국의 아파트 전셋값은 하락, 월세 가격은 상승 후 보합세를 보인다고 합니다. 이 지표만 보면 부동산 시장이 그렇게 심각한 것인가라는 반문을 할 수 있을 것 같습니다. 하지만 다음의 지표들을 보면 심각성이 돋보이게 되지요.'))"
   ]
  },
  {
   "cell_type": "code",
   "execution_count": 15,
   "id": "0c34fad9",
   "metadata": {},
   "outputs": [
    {
     "name": "stdout",
     "output_type": "stream",
     "text": [
      "[('서울', 'NNG'), ('아파트', 'NNG'), ('실', 'NNG'), ('거래', 'NNG'), ('가격', 'NNG'), ('지수', 'NNG'), ('는', 'JX'), ('올해', 'NNG'), ('듣', 'VV'), ('어', 'ECD'), ('하락세', 'NNG'), ('가', 'JKS'), ('지속', 'NNG'), ('되', 'XSV'), ('고', 'ECE'), ('있', 'VXV'), ('고', 'ECE'), ('전국', 'NNG'), ('의', 'JKG'), ('아파트', 'NNG'), ('전', 'NNG'), ('셋', 'NNG'), ('값', 'NNG'), ('은', 'JX'), ('하락', 'NNG'), (',', 'SP'), ('월세', 'NNG'), ('가격', 'NNG'), ('은', 'JX'), ('상승', 'NNG'), ('후', 'NNG'), ('보합세', 'NNG'), ('를', 'JKO'), ('보이', 'VV'), ('ㄴ다고', 'ECE'), ('하', 'VV'), ('ㅂ니다', 'EFN'), ('.', 'SF'), ('이', 'JKS'), ('지표', 'NNG'), ('만', 'JX'), ('보', 'VV'), ('면', 'ECE'), ('부동산', 'NNG'), ('시장', 'NNG'), ('이', 'JKS'), ('그렇게', 'MAG'), ('심각', 'XR'), ('하', 'XSA'), ('ㄴ', 'ETD'), ('것', 'NNB'), ('이', 'VCP'), ('ㄴ', 'ETD'), ('가라', 'VV'), ('는', 'ETD'), ('반문', 'NNG'), ('을', 'JKO'), ('하', 'VV'), ('ㄹ', 'ETD'), ('수', 'NNB'), ('있', 'VV'), ('을', 'ETD'), ('것', 'NNB'), ('같', 'VA'), ('습니다', 'EFN'), ('.', 'SF'), ('하지만', 'MAC'), ('다음', 'NNG'), ('의', 'JKG'), ('지표', 'NNG'), ('들', 'XSN'), ('을', 'JKO'), ('보', 'VV'), ('면', 'ECE'), ('심각', 'NNG'), ('성', 'XSN'), ('이', 'JKS'), ('돋보이', 'VV'), ('게', 'ECD'), ('되', 'VV'), ('지요', 'EFN'), ('.', 'SF')]\n"
     ]
    }
   ],
   "source": [
    "print(kkma.pos('서울 아파트 실거래가격지수는 올해 들어 하락세가 지속되고 있고 전국의 아파트 전셋값은 하락, 월세 가격은 상승 후 보합세를 보인다고 합니다. 이 지표만 보면 부동산 시장이 그렇게 심각한 것인가라는 반문을 할 수 있을 것 같습니다. 하지만 다음의 지표들을 보면 심각성이 돋보이게 되지요.'))"
   ]
  },
  {
   "cell_type": "code",
   "execution_count": 16,
   "id": "400e06ea",
   "metadata": {},
   "outputs": [
    {
     "name": "stdout",
     "output_type": "stream",
     "text": [
      "['서울', '아파트', '실', '거래', '가격', '지수', '는', '올해', '듣', '어', '하락세', '가', '지속', '되', '고', '있', '고', '전국', '의', '아파트', '전', '셋', '값', '은', '하락', ',', '월세', '가격', '은', '상승', '후', '보합세', '를', '보이', 'ㄴ다고', '하', 'ㅂ니다', '.', '이', '지표', '만', '보', '면', '부동산', '시장', '이', '그렇게', '심각', '하', 'ㄴ', '것', '이', 'ㄴ', '가라', '는', '반문', '을', '하', 'ㄹ', '수', '있', '을', '것', '같', '습니다', '.', '하지만', '다음', '의', '지표', '들', '을', '보', '면', '심각', '성', '이', '돋보이', '게', '되', '지요', '.']\n"
     ]
    }
   ],
   "source": [
    "print(kkma.morphs('서울 아파트 실거래가격지수는 올해 들어 하락세가 지속되고 있고 전국의 아파트 전셋값은 하락, 월세 가격은 상승 후 보합세를 보인다고 합니다. 이 지표만 보면 부동산 시장이 그렇게 심각한 것인가라는 반문을 할 수 있을 것 같습니다. 하지만 다음의 지표들을 보면 심각성이 돋보이게 되지요.'))"
   ]
  },
  {
   "cell_type": "code",
   "execution_count": null,
   "id": "a8b9748c",
   "metadata": {},
   "outputs": [],
   "source": []
  },
  {
   "cell_type": "code",
   "execution_count": null,
   "id": "1ed955e0",
   "metadata": {},
   "outputs": [],
   "source": []
  },
  {
   "cell_type": "code",
   "execution_count": null,
   "id": "a79a9155",
   "metadata": {},
   "outputs": [],
   "source": []
  },
  {
   "cell_type": "code",
   "execution_count": null,
   "id": "f2c79d8f",
   "metadata": {},
   "outputs": [],
   "source": []
  },
  {
   "cell_type": "code",
   "execution_count": null,
   "id": "694fd0fb",
   "metadata": {},
   "outputs": [],
   "source": []
  },
  {
   "cell_type": "code",
   "execution_count": null,
   "id": "24d89331",
   "metadata": {},
   "outputs": [],
   "source": []
  }
 ],
 "metadata": {
  "kernelspec": {
   "display_name": "Python 3 (ipykernel)",
   "language": "python",
   "name": "python3"
  },
  "language_info": {
   "codemirror_mode": {
    "name": "ipython",
    "version": 3
   },
   "file_extension": ".py",
   "mimetype": "text/x-python",
   "name": "python",
   "nbconvert_exporter": "python",
   "pygments_lexer": "ipython3",
   "version": "3.9.12"
  }
 },
 "nbformat": 4,
 "nbformat_minor": 5
}
