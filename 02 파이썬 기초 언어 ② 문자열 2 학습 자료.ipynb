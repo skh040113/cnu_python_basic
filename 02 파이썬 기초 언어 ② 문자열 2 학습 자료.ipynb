{
 "cells": [
  {
   "cell_type": "markdown",
   "id": "52aeedf5",
   "metadata": {},
   "source": [
    "# 02 파이썬 기초 언어 ②: 문자열 2 학습 자료(2022. 9. 15.(목))"
   ]
  },
  {
   "cell_type": "markdown",
   "id": "d54c2843",
   "metadata": {},
   "source": [
    "<span style=\"color:red\"><strong>\n",
    "    ※ 무단 배포, 공유, 수정, 편집 금지 ⓒ선한빛\n",
    "        </strong></span>"
   ]
  },
  {
   "cell_type": "markdown",
   "id": "87ccd6dc",
   "metadata": {},
   "source": [
    "### 1. 인덱싱(Indexing)"
   ]
  },
  {
   "attachments": {
    "image.png": {
     "image/png": "[encoded data removed]"
    }
   },
   "cell_type": "markdown",
   "id": "4ed978c0",
   "metadata": {},
   "source": [
    "<p>● 문자열 안의 <span style='background-color: #fff5b1'>특정한 값을 뽑아내는</span> 작업</p>\n",
    "<p>● 문자열 안에 위치한 <span style='background-color: #fff5b1'>자리의 번호를 사용</span></p>\n",
    "<p>● 파이썬은 숫자가 <span style='background-color: #fff5b1'>0부터 시작</span>. <span style=\"color:red\">단, 뒤에서부터 셀 때는 -1부터 시작</span></p>\n",
    "<p>● <span style='background-color: #fff5b1'>변수명[번호]</span> (예: a[1])</p>\n",
    "\n",
    "![image.png](attachment:image.png)"
   ]
  },
  {
   "cell_type": "markdown",
   "id": "a849b1df",
   "metadata": {},
   "source": [
    "<span style=\"color:#0000ff\"><strong>\n",
    "    1) 변수 a에 Life is too short.를 대입한 후 문자열의 다섯 번째 문자를 출력하시오.\n",
    "    </strong></span>"
   ]
  },
  {
   "cell_type": "code",
   "execution_count": 1,
   "id": "1982ba06",
   "metadata": {},
   "outputs": [
    {
     "name": "stdout",
     "output_type": "stream",
     "text": [
      " \n",
      "i\n"
     ]
    }
   ],
   "source": [
    "a=\"Life is too short\"\n",
    "\n",
    "print(a[4])\n",
    "print(a[5])"
   ]
  },
  {
   "cell_type": "markdown",
   "id": "3659c749",
   "metadata": {},
   "source": [
    "<span style=\"color:#0000ff\"><strong>\n",
    "    2) 인덱싱을 사용하여 아래의 변수값에서 뒤에서 여섯 번째 문자를 출력하시오.\n",
    "    </strong></span>"
   ]
  },
  {
   "cell_type": "code",
   "execution_count": 2,
   "id": "ce7b6d8f",
   "metadata": {},
   "outputs": [
    {
     "name": "stdout",
     "output_type": "stream",
     "text": [
      "s\n"
     ]
    }
   ],
   "source": [
    "a='Life is too short.'\n",
    "\n",
    "print(a[-6])"
   ]
  },
  {
   "cell_type": "markdown",
   "id": "92745b82",
   "metadata": {},
   "source": [
    "<span style=\"color:#0000ff\"><strong>\n",
    "    3) 인덱싱을 사용하여 아래의 변수값에서 h를 출력하시오.\n",
    "    </strong></span>"
   ]
  },
  {
   "cell_type": "code",
   "execution_count": 3,
   "id": "38b3b5cc",
   "metadata": {},
   "outputs": [
    {
     "name": "stdout",
     "output_type": "stream",
     "text": [
      "h\n",
      "h\n"
     ]
    }
   ],
   "source": [
    "a='Life is too short.'\n",
    "\n",
    "print(a[13])\n",
    "print(a[-5])"
   ]
  },
  {
   "cell_type": "markdown",
   "id": "7ed4c8fb",
   "metadata": {},
   "source": [
    "<span style=\"color:red\"><strong>※ 응용하기</strong></span>"
   ]
  },
  {
   "cell_type": "markdown",
   "id": "a0f9e4cc",
   "metadata": {},
   "source": [
    "<span style=\"color:#0000ff\"><strong>\n",
    "    4) 인덱싱을 사용하여 아래의 변수값에서 too를 출력하시오.\n",
    "    </strong></span>"
   ]
  },
  {
   "cell_type": "code",
   "execution_count": 14,
   "id": "c6680d6d",
   "metadata": {},
   "outputs": [
    {
     "name": "stdout",
     "output_type": "stream",
     "text": [
      "t o o\n",
      "too\n"
     ]
    }
   ],
   "source": [
    "a='Life is too short.'\n",
    "\n",
    "print(a[8],a[9],a[10])\n",
    "print(a[8]+a[9]+a[10])"
   ]
  },
  {
   "cell_type": "markdown",
   "id": "b6c98cef",
   "metadata": {},
   "source": [
    "### 2. 슬라이싱(Slicing)"
   ]
  },
  {
   "cell_type": "markdown",
   "id": "bdd42e54",
   "metadata": {},
   "source": [
    "<p>● 문자열에서 <span style='background-color: #fff5b1'>한 단어를 뽑아내는</span> 작업</p>\n",
    "<p>● 슬라이싱하고 싶은 단어의 문자열 자리 번호를 사용하여 <span style='background-color: #fff5b1'>범위를 지정</span></p>\n",
    "<p>● 범위를 지정할 때 <span style=\"color:red\">마지막 자리의 숫자는 1을 더해야 함.</span></p>\n",
    "<p>● <span style='background-color: #fff5b1'>변수명[시작 번호:끝 번호+1]</span> (예: a[0:3] → 0 ≤ a < 3)</p>\n",
    "<p>● 시작 번호가 0일 경우 <span style='background-color: #fff5b1'>0을 생략</span>해서 범위를 지정할 수 있음. (예: a[:3] → 0 ≤ a < 3)</p>\n",
    "<p>● <span style='background-color: #fff5b1'>시작 번호와 끝 번호를 생략하면</span> 문자열의 처음부터 끝까지 출력 가능 (예: a[:]</p>"
   ]
  },
  {
   "cell_type": "markdown",
   "id": "392a7898",
   "metadata": {},
   "source": [
    "<span style=\"color:#0000ff\"><strong>\n",
    "    1) 변수 a에 Life is too short.를 대입한 후 슬라이싱을 사용하여 Life를 출력하시오.\n",
    "    </strong></span>"
   ]
  },
  {
   "cell_type": "code",
   "execution_count": 15,
   "id": "068af4df",
   "metadata": {},
   "outputs": [
    {
     "name": "stdout",
     "output_type": "stream",
     "text": [
      "Life\n"
     ]
    }
   ],
   "source": [
    "#방법 1\n",
    "a=\"Life is too short\"\n",
    "\n",
    "print(a[0:4])"
   ]
  },
  {
   "cell_type": "code",
   "execution_count": 17,
   "id": "fc7f2d71",
   "metadata": {},
   "outputs": [
    {
     "name": "stdout",
     "output_type": "stream",
     "text": [
      "Life\n"
     ]
    }
   ],
   "source": [
    "#방법 2\n",
    "a=\"Life is too short\"\n",
    "\n",
    "print(a[:4])"
   ]
  },
  {
   "cell_type": "code",
   "execution_count": 18,
   "id": "d4b0e8fb",
   "metadata": {},
   "outputs": [
    {
     "name": "stdout",
     "output_type": "stream",
     "text": [
      "Life\n"
     ]
    }
   ],
   "source": [
    "#인덱싱을 사용해서 Life를 출력해 보세요.\n",
    "a=\"Life is too short\"\n",
    "\n",
    "print(a[0]+a[1]+a[2]+a[3])"
   ]
  },
  {
   "cell_type": "markdown",
   "id": "a6e3fc4f",
   "metadata": {},
   "source": [
    "<span style=\"color:#0000ff\"><strong>\n",
    "    2) 슬라이싱을 사용하여 변수 a의 문장 전체를 출력하시오.\n",
    "    </strong></span>"
   ]
  },
  {
   "cell_type": "code",
   "execution_count": 21,
   "id": "5bed712e",
   "metadata": {},
   "outputs": [
    {
     "name": "stdout",
     "output_type": "stream",
     "text": [
      "Life is too short.\n",
      "Life is too short.\n",
      " is \n"
     ]
    }
   ],
   "source": [
    "a='Life is too short.'\n",
    "\n",
    "print(a[0:18])\n",
    "print(a[:])\n",
    "print(a[4:8])"
   ]
  },
  {
   "cell_type": "markdown",
   "id": "bf8e32bf",
   "metadata": {},
   "source": [
    "<span style=\"color:#0000ff\"><strong>\n",
    "    3) 슬라이싱을 사용하여 아래의 변수값을 입력한 후 출력하시오.\n",
    "    </strong></span>"
   ]
  },
  {
   "cell_type": "code",
   "execution_count": 30,
   "id": "5f007d9b",
   "metadata": {
    "scrolled": true
   },
   "outputs": [
    {
     "name": "stdout",
     "output_type": "stream",
     "text": [
      "2022\n",
      "0913\n",
      "Sunny\n",
      "연도: 2022\n",
      "날짜: 0913\n",
      "날씨: Sunny\n",
      "연도: 2022\n",
      "날짜: 0913\n",
      "날씨: Sunny\n"
     ]
    }
   ],
   "source": [
    "a='20220913Sunny'\n",
    "\n",
    "#변수명을 정할 때에는 영어 대문자/소문자, 언더바(_)로 시작할 수 있음. (예: A, a, _A, _a)\n",
    "#변수명에 숫자를 포함할 수는 있지만 숫자로 시작해서는 안 됨. (예: a1(O), 1a(X))\n",
    "#if, else, while, for, True, False 등 이미 파이썬에 예약어로 지정된 표현들은 변수명으로 사용할 수 없음.\n",
    "\n",
    "year= a[0:4]\n",
    "day= a[4:8]\n",
    "weather=a[8:]\n",
    "\n",
    "print(year)\n",
    "print(day)\n",
    "print(weather)\n",
    "\n",
    "#무언가를 추가하고 싶을 때\n",
    "\n",
    "#방법1 \n",
    "b=\"연도: \"\n",
    "c=\"날짜: \"\n",
    "d=\"날씨: \"\n",
    "\n",
    "print(b+year)\n",
    "print(c+day)\n",
    "print(d+weather)\n",
    "\n",
    "#방법2\n",
    "print('연도: '+year)\n",
    "print('날짜: '+day)\n",
    "print('날씨: '+ weather)"
   ]
  },
  {
   "cell_type": "code",
   "execution_count": 35,
   "id": "d5ba362d",
   "metadata": {},
   "outputs": [
    {
     "name": "stdout",
     "output_type": "stream",
     "text": [
      "python\n"
     ]
    }
   ],
   "source": [
    "a= \"pithon\"\n",
    "b=a[1]\n",
    "\n",
    "print(a[0]+\"y\"+a[2:])"
   ]
  },
  {
   "cell_type": "markdown",
   "id": "2c2f60a4",
   "metadata": {},
   "source": [
    "### 3. 문자열 포매팅(Formatting)"
   ]
  },
  {
   "attachments": {
    "image.png": {
     "image/png": "[encoded data removed]"
    }
   },
   "cell_type": "markdown",
   "id": "91f6dc4e",
   "metadata": {},
   "source": [
    "<p>● 문자열 안에 <span style='background-color: #fff5b1'>어떤 값을 삽입하는 방법</span></p>\n",
    "<p>● 문자열 포맷 코드</p>\n",
    "\n",
    "![image.png](attachment:image.png)\n",
    "\n",
    "<span style=\"color:red\">※ %s는 뒤에 오는 값을 자동으로 문자열로 바꿔주는 기능도 있음.</span>\n",
    "<p>● <strong>숫자 대입</strong>: a=\"I eat <span style=\"color:blue\">%d</span> apples.\" <span style=\"color:blue\">% 3</span> → 출력 결과: I eat 3 apples.</p>\n",
    "<p>● <strong>문자 대입</strong>: a=\"I eat <span style=\"color:blue\">%s</span> apples.\" <span style=\"color:blue\">% \"three\"</span> → 출력 결과: I eat three apples.</p>\n",
    "<p>● <strong>변숫값이 숫자형인 변수 대입</strong>:</p>\n",
    "<p>a=3</p>\n",
    "<p>b=\"I eat <span style=\"color:blue\">%d</span> apples.\" <span style=\"color:blue\">% a</span> → 출력 결과: I eat 3 apples.</p>\n",
    "<p>● <strong>2개 이상의 값 대입</strong>:</p>\n",
    "<p>year=2022</p>\n",
    "<p>month=9</p>\n",
    "<p>day=15</p>\n",
    "<p>a=\"<span style=\"color:blue\">%d</span>-<span style=\"color:blue\">%d</span>-<span style=\"color:blue\">%d</span>\" <span style=\"color:blue\">% (year, month, day)</span> → 출력 결과: 2022-9-15 <span style=\"color:red\">※ 복수의 값을 출력할 때에는 마지막 % 뒤에 괄호 ()를 써야 함.</span>"
   ]
  },
  {
   "attachments": {
    "image.png": {
     "image/png": "[encoded data removed]"
    }
   },
   "cell_type": "markdown",
   "id": "81885f6e",
   "metadata": {},
   "source": [
    "<span style=\"color:#0000ff\"><strong>\n",
    "    1) 문자열 포매팅을 사용하여 아래와 같이 출력하시오.\n",
    "    </strong></span>\n",
    "    \n",
    "![image.png](attachment:image.png)"
   ]
  },
  {
   "cell_type": "code",
   "execution_count": null,
   "id": "56d85548",
   "metadata": {},
   "outputs": [],
   "source": []
  },
  {
   "attachments": {
    "image.png": {
     "image/png": "[encoded data removed]"
    }
   },
   "cell_type": "markdown",
   "id": "eb6bdaab",
   "metadata": {},
   "source": [
    "<span style=\"color:#0000ff\"><strong>\n",
    "    2) 문자열 포매팅을 사용하여 아래와 같이 출력하시오.\n",
    "    </strong></span>\n",
    "\n",
    "![image.png](attachment:image.png)"
   ]
  },
  {
   "cell_type": "code",
   "execution_count": null,
   "id": "04a7f4b0",
   "metadata": {},
   "outputs": [],
   "source": []
  },
  {
   "cell_type": "code",
   "execution_count": null,
   "id": "fc70dc51",
   "metadata": {},
   "outputs": [],
   "source": [
    "#홍길동을 변수로 설정해서 해 보세요.\n",
    "\n"
   ]
  },
  {
   "attachments": {
    "image.png": {
     "image/png": "[encoded data removed]"
    }
   },
   "cell_type": "markdown",
   "id": "1ad1eb78",
   "metadata": {},
   "source": [
    "<span style=\"color:#0000ff\"><strong>\n",
    "    3) 문자열 포매팅을 사용하여 변수 a의 값을 아래와 같이 출력하시오.\n",
    "    </strong></span>\n",
    "    \n",
    "![image.png](attachment:image.png)"
   ]
  },
  {
   "cell_type": "code",
   "execution_count": null,
   "id": "d3705ab9",
   "metadata": {},
   "outputs": [],
   "source": []
  },
  {
   "attachments": {
    "image.png": {
     "image/png": "[encoded data removed]"
    }
   },
   "cell_type": "markdown",
   "id": "891002dd",
   "metadata": {},
   "source": [
    "<span style=\"color:#0000ff\"><strong>\n",
    "    4) 2개 이상의 변수를 지정하여 문자열 포매팅으로 아래와 같이 출력하시오.\n",
    "    </strong></span>\n",
    "    \n",
    "![image.png](attachment:image.png)"
   ]
  },
  {
   "cell_type": "code",
   "execution_count": null,
   "id": "7feeca2c",
   "metadata": {},
   "outputs": [],
   "source": []
  },
  {
   "cell_type": "markdown",
   "id": "ce930e18",
   "metadata": {},
   "source": [
    "<p>● <strong>문자열 정렬</strong>: 문자열을 출력하고 싶은 방향에 맞춰 공백 삽입</p>\n",
    "<p>· 왼쪽 정렬: <span style='background-color: #fff5b1'>\"%-공백의 길이s\" %</span> \"삽입 문자\" (예: a=<span style=\"color:blue\">\"%-10s\" %</span> \"hi\" → 출력 결과:hi__________(공백이 안 나와서 _로 표시)</p>\n",
    "<p>· 오른쪽 정렬: <span style='background-color: #fff5b1'>\"공백의 길이s\" %</span> \"삽입 문자\" (예: a=<span style=\"color:blue\">\"%10s\" %</span> \"hi\" → 출력 결과:__________hi(공백이 안 나와서 _로 표시)</p>\n",
    "<p>· 왼쪽 정렬 응용: <span style='background-color: #fff5b1'>\"%-공백의 길이s공백 뒤에 올 문자열\" %</span> \"삽입 문자\" (예: a=<span style=\"color:blue\">\"%-10sjane\" %</span> \"hi\" → 출력 결과:hi__________jane(공백이 안 나와서 _로 표시)</p>"
   ]
  },
  {
   "cell_type": "markdown",
   "id": "cb0e5511",
   "metadata": {},
   "source": [
    "<span style=\"color:#0000ff\"><strong>\n",
    "    1) hi를 오른쪽으로 10칸 이동시켜 출력하시오.\n",
    "    </strong></span>"
   ]
  },
  {
   "cell_type": "code",
   "execution_count": null,
   "id": "f5bd28f6",
   "metadata": {},
   "outputs": [],
   "source": []
  },
  {
   "attachments": {
    "image-2.png": {
     "image/png": "[encoded data removed]"
    }
   },
   "cell_type": "markdown",
   "id": "a687e288",
   "metadata": {},
   "source": [
    "<span style=\"color:#0000ff\"><strong>\n",
    "    2) 아래와 같이 문자열을 출력하시오. (단어와 단어 사이의 간격은 10)\n",
    "    </strong></span>\n",
    "    \n",
    "![image-2.png](attachment:image-2.png)"
   ]
  },
  {
   "cell_type": "code",
   "execution_count": null,
   "id": "f52e9103",
   "metadata": {},
   "outputs": [],
   "source": []
  },
  {
   "cell_type": "markdown",
   "id": "59c9cc27",
   "metadata": {},
   "source": [
    "<p>● <strong>소수점 표기</strong>: 특정 자리까지 소수점을 출력하고 싶을 때 <span style='background-color: #fff5b1'>\"%0.소수점 뒤에 나올 숫자의 개수f\"</span> 삽입</p>\n",
    "<p>(예: a=\"<span style=\"color:blue\">%0.4f</span>\" <span style=\"color:blue\">%</span> 3.42134234 → 출력 결과:3.4213</p>"
   ]
  },
  {
   "cell_type": "markdown",
   "id": "30fa27e6",
   "metadata": {},
   "source": [
    "<span style=\"color:#0000ff\"><strong>\n",
    "    1) 2.74136을 소수점 둘째 자리까지만 출력하시오.\n",
    "    </strong></span>"
   ]
  },
  {
   "cell_type": "code",
   "execution_count": null,
   "id": "46421a87",
   "metadata": {},
   "outputs": [],
   "source": []
  }
 ],
 "metadata": {
  "kernelspec": {
   "display_name": "Python 3 (ipykernel)",
   "language": "python",
   "name": "python3"
  },
  "language_info": {
   "codemirror_mode": {
    "name": "ipython",
    "version": 3
   },
   "file_extension": ".py",
   "mimetype": "text/x-python",
   "name": "python",
   "nbconvert_exporter": "python",
   "pygments_lexer": "ipython3",
   "version": "3.9.12"
  }
 },
 "nbformat": 4,
 "nbformat_minor": 5
}
